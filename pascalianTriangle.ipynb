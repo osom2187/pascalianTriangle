{
 "cells": [
  {
   "cell_type": "code",
   "execution_count": 35,
   "metadata": {},
   "outputs": [
    {
     "name": "stdout",
     "output_type": "stream",
     "text": [
      "[0, 1, 0]\n"
     ]
    },
    {
     "ename": "TypeError",
     "evalue": "unsupported operand type(s) for -: 'list' and 'int'",
     "output_type": "error",
     "traceback": [
      "\u001b[1;31m---------------------------------------------------------------------------\u001b[0m",
      "\u001b[1;31mTypeError\u001b[0m                                 Traceback (most recent call last)",
      "\u001b[1;32mc:\\Users\\dav\\Desktop\\practicing coding\\pascalian triangle\\pascalianTriangle.ipynb Cell 1'\u001b[0m in \u001b[0;36m<cell line: 15>\u001b[1;34m()\u001b[0m\n\u001b[0;32m     <a href='vscode-notebook-cell:/c%3A/Users/dav/Desktop/practicing%20coding/pascalian%20triangle/pascalianTriangle.ipynb#ch0000000?line=17'>18</a>\u001b[0m \u001b[39mif\u001b[39;00m \u001b[39msum\u001b[39m(nextArray) \u001b[39m>\u001b[39m\u001b[39m=\u001b[39m \u001b[39m2\u001b[39m:\n\u001b[0;32m     <a href='vscode-notebook-cell:/c%3A/Users/dav/Desktop/practicing%20coding/pascalian%20triangle/pascalianTriangle.ipynb#ch0000000?line=18'>19</a>\u001b[0m     helper \u001b[39m=\u001b[39m \u001b[39msum\u001b[39m(nextArray)\n\u001b[1;32m---> <a href='vscode-notebook-cell:/c%3A/Users/dav/Desktop/practicing%20coding/pascalian%20triangle/pascalianTriangle.ipynb#ch0000000?line=19'>20</a>\u001b[0m     inLoopCounter \u001b[39m=\u001b[39m \u001b[39mlen\u001b[39m(nextArray \u001b[39m-\u001b[39;49m \u001b[39m2\u001b[39;49m)\n\u001b[0;32m     <a href='vscode-notebook-cell:/c%3A/Users/dav/Desktop/practicing%20coding/pascalian%20triangle/pascalianTriangle.ipynb#ch0000000?line=20'>21</a>\u001b[0m     inLoopCount \u001b[39m=\u001b[39m \u001b[39mlen\u001b[39m(nextArray) \u001b[39m-\u001b[39m inLoopCounter\n\u001b[0;32m     <a href='vscode-notebook-cell:/c%3A/Users/dav/Desktop/practicing%20coding/pascalian%20triangle/pascalianTriangle.ipynb#ch0000000?line=21'>22</a>\u001b[0m     nextArray\u001b[39m.\u001b[39minsert(inLoopCount, helper)\n",
      "\u001b[1;31mTypeError\u001b[0m: unsupported operand type(s) for -: 'list' and 'int'"
     ]
    }
   ],
   "source": [
    "'''\n",
    "Pascal's Triangle\n",
    "Input: numRows \n",
    "Output: arrays with the values separated in them \n",
    "special flavour: make the triangle start at the first time a chosen integer occurs \n",
    "extra challenge: visualize the triangle\n",
    "'''\n",
    "\n",
    "numRows = int(input(\"How many rows should I compute?\"))\n",
    "\n",
    "initialRow = [1] \n",
    "\n",
    "nextArray = []\n",
    "counter = []\n",
    "for i in range(0, numRows):\n",
    "    nextArray = [0] + initialRow + counter + [0]\n",
    "    counter += [1]\n",
    "    if sum(nextArray) >= 2:\n",
    "        helper = sum(nextArray)\n",
    "        inLoopCounter = len(nextArray - 2)\n",
    "        inLoopCount = len(nextArray) - inLoopCounter\n",
    "        nextArray.insert(inLoopCount, helper)\n",
    "       \n",
    "    print(nextArray)\n"
   ]
  }
 ],
 "metadata": {
  "interpreter": {
   "hash": "aeb2c922034a003fdfa5d3823635dc7cd544540d824e279cc799fcdfdc098fb3"
  },
  "kernelspec": {
   "display_name": "Python 3.9.0 64-bit",
   "language": "python",
   "name": "python3"
  },
  "language_info": {
   "codemirror_mode": {
    "name": "ipython",
    "version": 3
   },
   "file_extension": ".py",
   "mimetype": "text/x-python",
   "name": "python",
   "nbconvert_exporter": "python",
   "pygments_lexer": "ipython3",
   "version": "3.9.0"
  },
  "orig_nbformat": 4
 },
 "nbformat": 4,
 "nbformat_minor": 2
}
